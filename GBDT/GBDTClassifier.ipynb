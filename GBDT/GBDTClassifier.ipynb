{
 "cells": [
  {
   "cell_type": "markdown",
   "metadata": {},
   "source": [
    "# Gradient Boosting Decision Trees  Classifier"
   ]
  },
  {
   "cell_type": "code",
   "execution_count": 3,
   "metadata": {},
   "outputs": [],
   "source": [
    "import numpy as np\n",
    "from DecisionTrees import DecisionTrees\n",
    "from scipy.special import expit  # Sigmoid function\n",
    "\n",
    "class GBDTClassifier:\n",
    "\n",
    "    def __init__(self, n_estimators=100, learning_rate=0.1, min_samples_split=2, max_depth=3):\n",
    "        self.n_estimators = n_estimators\n",
    "        self.learning_rate = learning_rate\n",
    "        self.min_samples_split = min_samples_split\n",
    "        self.max_depth = max_depth\n",
    "        self.trees = []\n",
    "\n",
    "    def fit(self, X,y):\n",
    "        # step 1: convert y to{-1,1}\n",
    "        y = np.where(y == 0,-1,1)\n",
    "\n",
    "        # initialize the model with the log-odds of\n",
    "        p = np.mean(y)\n",
    "        self.initial_prediction = np.log(p / (1 - p))\n",
    "\n",
    "        # initialize predictions with the Log-odds value\n",
    "        y_pred = np.full(X.shape[0], self.initial_prediction)\n",
    "\n",
    "        # fit trees seqientially to minimize log loss\n",
    "        for _ in range(self.n_estimators):\n",
    "            # calculate the gradient \n",
    "            gradient = y - expit(y_pred) # y - sigmoid(pred)\n",
    "\n",
    "            # Fit a tree to the gradient (pseudo-residuals)\n",
    "            tree = DecisionTrees(min_samples_split=self.min_samples_split, max_depth=self.max_depth, task='regression')\n",
    "            tree.fit(X, gradient)\n",
    "\n",
    "            # save the tree\n",
    "            self.trees.append(tree)\n",
    "\n",
    "            #update the predictions \n",
    "            y_pred += self.learning_rate * tree.predict(X)\n",
    "\n",
    "    def _predict_proba(self, X):\n",
    "        # Step 3: make predictions by summing contributions from all trees\n",
    "        # start with the inital prediction\n",
    "        y_pred = np.full(X.shape[0], self.initial_prediction)\n",
    "\n",
    "        # add the contribution from each tree\n",
    "        for tree in self.trees:\n",
    "            y_pred += self.learning_rate * tree.predict(X)\n",
    "\n",
    "        # convert raw score to probabilities using the sigmoid function\n",
    "        proba = expit(y_pred)\n",
    "        return np.vstack([1 - proba, proba]).T  # Return probabilities for class 0 and class 1\n",
    "    \n",
    "    def predict(self, X):\n",
    "        # predict the class based on the threshold of 0.5 \n",
    "        proba = self._predict_proba(X)[:,1]\n",
    "        return np.where(proba >= 0.5, 1, 0)\n",
    "            "
   ]
  },
  {
   "cell_type": "markdown",
   "metadata": {},
   "source": [
    "## Example Usage"
   ]
  },
  {
   "cell_type": "code",
   "execution_count": 12,
   "metadata": {},
   "outputs": [
    {
     "name": "stdout",
     "output_type": "stream",
     "text": [
      "0.9210526315789473\n"
     ]
    }
   ],
   "source": [
    "from random import random\n",
    "from sklearn import datasets\n",
    "from sklearn.model_selection import train_test_split\n",
    "import numpy as np\n",
    "\n",
    "data = datasets.load_breast_cancer()\n",
    "X = data.data\n",
    "y = data.target\n",
    "\n",
    "X_train, X_test, y_train, y_test = train_test_split(\n",
    "    X, y, test_size=0.2, random_state=1234\n",
    ")\n",
    "\n",
    "def accuracy(y_true, y_pred):\n",
    "    accuracy = np.sum(y_true == y_pred) / len(y_true)\n",
    "    return accuracy\n",
    "\n",
    "clf = GBDTClassifier()\n",
    "clf.fit(X_train, y_train)\n",
    "predictions = clf.predict(X_test)\n",
    "\n",
    "acc =  accuracy(y_test, predictions)\n",
    "print(acc)"
   ]
  }
 ],
 "metadata": {
  "kernelspec": {
   "display_name": "Python 3",
   "language": "python",
   "name": "python3"
  },
  "language_info": {
   "codemirror_mode": {
    "name": "ipython",
    "version": 3
   },
   "file_extension": ".py",
   "mimetype": "text/x-python",
   "name": "python",
   "nbconvert_exporter": "python",
   "pygments_lexer": "ipython3",
   "version": "3.11.9"
  }
 },
 "nbformat": 4,
 "nbformat_minor": 2
}
