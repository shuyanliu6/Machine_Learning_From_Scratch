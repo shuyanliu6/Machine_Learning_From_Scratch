{
 "cells": [
  {
   "cell_type": "markdown",
   "metadata": {},
   "source": [
    "# Logistic Regression"
   ]
  },
  {
   "cell_type": "markdown",
   "metadata": {
    "vscode": {
     "languageId": "latex"
    }
   },
   "source": [
    "## Logistic Regression Vectorized Functions\n",
    "\n",
    "\n",
    "### 1. Hypothesis Function in Vector Form\n",
    "The hypothesis function calculates the predicted probability for all training examples in a vectorized manner using the sigmoid function:\n",
    "\n",
    "$$\n",
    "h = \\sigma(X \\theta)\n",
    "$$\n",
    "\n",
    "Where:\n",
    "- \\( h \\): \\( m \\times 1 \\) vector of predicted probabilities.\n",
    "- \\( X \\): \\( m \\times n \\) matrix of training examples, where each row represents an input vector \\( x^{(i)} \\) and \\( m \\) is the number of examples.\n",
    "- \\( \\theta \\): \\( n \\times 1 \\) vector of parameters (weights and bias).\n",
    "- \\( \\sigma(z) = \\frac{1}{1 + e^{-z}} \\): Sigmoid function that maps real-valued inputs into the range [0, 1].\n",
    "\n",
    "The sigmoid function ensures that the output is between 0 and 1, which is interpreted as the probability that the output is 1 for a given input.\n",
    "\n",
    "### 2. Cost Function in Vector Form\n",
    "The cost function measures the error between the predicted probabilities and the actual labels for all training examples:\n",
    "\n",
    "$$\n",
    "J(\\theta) = -\\frac{1}{m} \\left[ y^T \\log(h) + (1 - y)^T \\log(1 - h) \\right]\n",
    "$$\n",
    "\n",
    "Where:\n",
    "- \\( J(\\theta) \\): Cost function, which is a scalar value representing the average error across all examples.\n",
    "- \\( y \\): \\( m \\times 1 \\) vector of actual labels (0 or 1).\n",
    "- \\( h \\): \\( m \\times 1 \\) vector of predicted probabilities, calculated from the hypothesis function.\n",
    "\n",
    "The cost function computes the cross-entropy loss, which is used to evaluate how well the logistic regression model fits the data. It penalizes incorrect predictions more heavily, making it effective for training.\n",
    "\n",
    "### 3. Gradient of the Cost Function in Vector Form\n",
    "The gradient of the cost function is used to determine the direction to update the parameters \\( \\theta \\):\n",
    "\n",
    "$$\n",
    "\\nabla J(\\theta) = \\frac{1}{m} X^T (h - y)\n",
    "$$\n",
    "\n",
    "Where:\n",
    "- \\( \\nabla J(\\theta) \\): Gradient vector, which is \\( n \\times 1 \\) and represents the partial derivatives of the cost function with respect to each parameter \\( \\theta_j \\).\n",
    "- \\( X^T \\): Transpose of the input matrix \\( X \\), resulting in a \\( n \\times m \\) matrix.\n",
    "- \\( h - y \\): \\( m \\times 1 \\) vector of errors between predicted probabilities and actual labels.\n",
    "\n",
    "The gradient helps in updating the model parameters during gradient descent to reduce the overall cost.\n",
    "\n",
    "### Parameters Explanation\n",
    "- **\\( X \\)**: Input feature matrix with dimensions \\( m \\times n \\), where \\( m \\) is the number of training examples and \\( n \\) is the number of features.\n",
    "- **\\( \\theta \\)**: Parameter vector with dimensions \\( n \\times 1 \\), representing the weights and bias for the model.\n",
    "- **\\( y \\)**: True labels vector with dimensions \\( m \\times 1 \\), containing binary labels (0 or 1).\n",
    "- **\\( h \\)**: Predicted probability vector with dimensions \\( m \\times 1 \\), containing the probabilities calculated using the sigmoid function.\n",
    "\n",
    "### Summary of Functions\n",
    "- **Hypothesis Function**: Calculates the predicted probabilities for all training examples using a linear combination of features and a sigmoid function.\n",
    "  \n",
    "  $$\n",
    "  h = \\sigma(X \\theta)\n",
    "  $$\n",
    "\n",
    "- **Cost Function**: Measures the average error across all examples using cross-entropy loss.\n",
    "  \n",
    "  $$\n",
    "  J(\\theta) = -\\frac{1}{m} \\left[ y^T \\log(h) + (1 - y)^T \\log(1 - h) \\right]\n",
    "  $$\n",
    "\n",
    "- **Gradient of the Cost Function**: Provides the direction and magnitude of change needed to minimize the cost function.\n",
    "\n",
    "  $$\n",
    "  \\nabla J(\\theta) = \\frac{1}{m} X^T (h - y)\n",
    "  $$\n",
    "\n",
    "These vectorized forms are efficient for implementation, especially when dealing with large datasets, as they take advantage of matrix operations for faster computation.\n",
    "\n"
   ]
  },
  {
   "cell_type": "code",
   "execution_count": 12,
   "metadata": {},
   "outputs": [],
   "source": [
    "import numpy as np\n",
    "\n",
    "# Define the LogisticRegression Class\n",
    "class LogisticRegression():\n",
    "    \n",
    "    def __init__(self, lr=0.01, n_iters = 1000):\n",
    "        self.lr = lr \n",
    "        self.n_iters = n_iters\n",
    "        self.weights = None\n",
    "        self.bias = None\n",
    "\n",
    "    def sigmoid(self, x):\n",
    "        x = np.clip(x, -500, 500)  # Clip values to prevent overflow\n",
    "        return 1/(1+np.exp(-x))\n",
    "\n",
    "    def fit(self, X, y):\n",
    "        n_samples, n_features = X.shape\n",
    "        self.weights = np.zeros(n_features)\n",
    "        self.bias = 0\n",
    "\n",
    "        for _ in range(self.n_iters):\n",
    "            linear_comb = np.dot(X, self.weights) + self.bias\n",
    "            predictions = self.sigmoid(linear_comb)\n",
    "\n",
    "            # using gradient descent for parameter update\n",
    "            dw = (1/n_samples) * np.dot(X.T, (predictions - y))\n",
    "            db = (1/n_samples) * np.sum(predictions - y)\n",
    "\n",
    "            # Updating the parameters\n",
    "            self.weights = self.weights - self.lr * dw\n",
    "            self.bias = self.bias - self.lr * db \n",
    "\n",
    "    def predict(self, X):\n",
    "        linear_comb = np.dot(X, self.weights) + self.bias\n",
    "        y_pred = self.sigmoid(linear_comb)\n",
    "\n",
    "        # Using a thrashold of 0.5 to classify probabilities\n",
    "        class_pred = [0 if y <= 0.5 else 1 for y in y_pred]\n",
    "        return class_pred\n",
    "    \n",
    "    def accuracy(self, y_test, y_pred):\n",
    "        \n",
    "        return np.sum(y_pred == y_test) / len(y_test)\n"
   ]
  },
  {
   "cell_type": "markdown",
   "metadata": {},
   "source": [
    "## Testing"
   ]
  },
  {
   "cell_type": "code",
   "execution_count": 13,
   "metadata": {},
   "outputs": [
    {
     "name": "stdout",
     "output_type": "stream",
     "text": [
      "the accuracy for the logistic regression model is:0.9473684210526315\n"
     ]
    }
   ],
   "source": [
    "from sklearn.model_selection import train_test_split\n",
    "from sklearn import datasets\n",
    "import matplotlib.pyplot as plt\n",
    "\n",
    "df = datasets.load_breast_cancer()\n",
    "X, y = df.data, df.target\n",
    "X_train, X_test, y_train, y_test = train_test_split(X, y, test_size=0.2, random_state=42)\n",
    "\n",
    "model = LogisticRegression()\n",
    "model.fit(X_train, y_train)\n",
    "\n",
    "y_pred = model.predict(X_test)\n",
    "model_accuracy = model.accuracy(y_test, y_pred)\n",
    "\n",
    "print(f'the accuracy for the logistic regression model is:{model_accuracy}')"
   ]
  }
 ],
 "metadata": {
  "kernelspec": {
   "display_name": "base",
   "language": "python",
   "name": "python3"
  },
  "language_info": {
   "codemirror_mode": {
    "name": "ipython",
    "version": 3
   },
   "file_extension": ".py",
   "mimetype": "text/x-python",
   "name": "python",
   "nbconvert_exporter": "python",
   "pygments_lexer": "ipython3",
   "version": "3.8.20"
  }
 },
 "nbformat": 4,
 "nbformat_minor": 2
}
