{
 "cells": [
  {
   "cell_type": "markdown",
   "metadata": {},
   "source": [
    "# Mutinomial Naive Bayes From Scratch"
   ]
  },
  {
   "cell_type": "code",
   "execution_count": 1,
   "metadata": {},
   "outputs": [],
   "source": [
    "import numpy as np"
   ]
  },
  {
   "cell_type": "code",
   "execution_count": 20,
   "metadata": {},
   "outputs": [],
   "source": [
    "class MutinomialNaiveBayes:\n",
    "    def __init__(self, alpha=1.0):\n",
    "        \"\"\"\n",
    "        Multinomial Naive Bayes classifier.\n",
    "        :param alpha: Smoothing parameter to aviod 0 probability(Laplace smoothing)\n",
    "        \"\"\"\n",
    "        self.alpha = alpha\n",
    "\n",
    "    def fit(self, X, y):\n",
    "        \"\"\"\n",
    "        Fit the Multinomial Naive Bayes model.\n",
    "        :param X: Training data (count or frequency features), shape (n_samples, n_features)\n",
    "        :param y: Target values (class labels), shape (n_samples,)\n",
    "        \"\"\"\n",
    "        n_samples, n_features = X.shape\n",
    "        self.classes = np.unique(y)  # Get unique class labels\n",
    "        n_classes = len(self.classes)\n",
    "\n",
    "        # Initialize priors, likelihood numerator (feature count for each class), and denominator (total count per class)\n",
    "        self.priors = np.zeros(n_classes, dtype=np.float64)\n",
    "        self.likelihood_numerators = np.zeros((n_classes, n_features), dtype=np.float64)\n",
    "        self.likelihood_denominators = np.zeros(n_classes, dtype=np.float64)\n",
    "\n",
    "        # Calulate priors and likelihoods for each class\n",
    "        for idx, c in enumerate(self.classes):\n",
    "            X_c = X[y == c]\n",
    "            self.priors[idx] = X_c.shape[0] / float(n_samples) # Prior: P(C_k)\n",
    "            self.likelihood_numerators[idx,:] = X_c.sum(axis=0) + self.alpha # Count of each feature in the class + alpha\n",
    "            self.likelihood_denominators[idx] = X_c.sum() + self.alpha * n_features # Total count of all features in the class\n",
    "\n",
    "    def predict(self, X):\n",
    "        \"\"\"\n",
    "        predict class label for input samples.\n",
    "        :param X: input data (count or frequency features), shape (n_samples, n_features)\n",
    "        :return: predicted class labels, shape (n_samples,)\n",
    "        \"\"\"\n",
    "        y_pred = [self._predict(x) for x in X]\n",
    "        return np.array(y_pred)\n",
    "    \n",
    "    def _predict(self, x):\n",
    "        \"\"\"\n",
    "        compute the posterior probability for each class and return the class with the highest probability.\n",
    "        :param x: a single input sample(count or frequency features)\n",
    "        :return: predicted class label\n",
    "        \"\"\"\n",
    "        posteriors = []\n",
    "\n",
    "        # calculate posterior probability for each class\n",
    "        for idx, c in enumerate(self.classes):\n",
    "            prior = np.log(self.priors[idx])\n",
    "            likelihood = np.sum(np.log(self.likelihood_numerators[idx, :] / self.likelihood_denominators[idx]) * x)\n",
    "            posterior = prior + likelihood\n",
    "            posteriors.append(posterior)\n",
    "\n",
    "        # return the class with the highest posterior probability\n",
    "        return self.classes[np.argmax(posteriors)]\n",
    "    \n",
    "    def accuracy(self, y_pred, y_test):\n",
    "        \"\"\"\n",
    "        testing the accuracy of the results\n",
    "        :param y_pred: the returned class predicted\n",
    "        :param y_test: the true label from test set\n",
    "        :return: the accuracy percentage\n",
    "        \"\"\"\n",
    "        accuracy = sum(y_pred == y_test) / len(y_test)\n",
    "        return accuracy\n"
   ]
  },
  {
   "cell_type": "markdown",
   "metadata": {},
   "source": [
    "## Example Usage"
   ]
  },
  {
   "cell_type": "code",
   "execution_count": 23,
   "metadata": {},
   "outputs": [
    {
     "data": {
      "text/plain": [
       "0.8445623342175066"
      ]
     },
     "execution_count": 23,
     "metadata": {},
     "output_type": "execute_result"
    }
   ],
   "source": [
    "from sklearn.datasets import fetch_20newsgroups\n",
    "from sklearn.feature_extraction.text import TfidfVectorizer\n",
    "from sklearn.model_selection import train_test_split\n",
    "\n",
    "# Load dataset\n",
    "newsgroups_data = fetch_20newsgroups(subset='all')\n",
    "\n",
    "# Create TF-IDF features\n",
    "vectorizer = TfidfVectorizer()\n",
    "X = vectorizer.fit_transform(newsgroups_data.data)\n",
    "y = newsgroups_data.target\n",
    "\n",
    "# Split dataset into training and testing sets\n",
    "X_train, X_test, y_train, y_test = train_test_split(X, y, test_size=0.2, random_state=42)\n",
    "\n",
    "# Train a Multinomial Naive Bayes classifier\n",
    "clf = MutinomialNaiveBayes(alpha=1.0)\n",
    "clf.fit(X_train, y_train)\n",
    "# Convert the test set to a dense array\n",
    "X_test_dense = X_test.toarray()\n",
    "# Predict on the test set\n",
    "y_pred = clf.predict(X_test_dense)\n",
    "\n",
    "# Calculate accuracy\n",
    "accuracy = clf.accuracy(y_pred, y_test)\n",
    "accuracy\n",
    "\n"
   ]
  }
 ],
 "metadata": {
  "kernelspec": {
   "display_name": "Python 3",
   "language": "python",
   "name": "python3"
  },
  "language_info": {
   "codemirror_mode": {
    "name": "ipython",
    "version": 3
   },
   "file_extension": ".py",
   "mimetype": "text/x-python",
   "name": "python",
   "nbconvert_exporter": "python",
   "pygments_lexer": "ipython3",
   "version": "3.11.9"
  }
 },
 "nbformat": 4,
 "nbformat_minor": 2
}
