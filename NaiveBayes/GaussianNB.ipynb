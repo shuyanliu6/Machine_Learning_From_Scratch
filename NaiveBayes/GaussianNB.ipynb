{
 "cells": [
  {
   "cell_type": "markdown",
   "metadata": {},
   "source": [
    "# Gaussian Naive Bayes"
   ]
  },
  {
   "cell_type": "code",
   "execution_count": 15,
   "metadata": {},
   "outputs": [],
   "source": [
    "import numpy as np\n",
    "\n",
    "class GaussianNB:\n",
    "\n",
    "    def fit(self, X, y):\n",
    "        \"\"\" fit the training data, for likelihood we using Gaussian distribution\n",
    "        :param X: shape(n_samples, n_features)\n",
    "        :param y: shape(n_samples,)\n",
    "        \"\"\"\n",
    "        self.n_iters = 1000\n",
    "        n_samples, n_features = X.shape\n",
    "\n",
    "        self.classes = np.unique(y)  # Get unique class labels\n",
    "        n_classes = len(self.classes)\n",
    "\n",
    "        # initialize prior, mean , var\n",
    "        self.priors = np.zeros(n_classes, dtype=np.float64)\n",
    "        self.mean = np.zeros((n_classes, n_features), dtype=np.float64)\n",
    "        self.var = np.zeros((n_classes,n_features), dtype=np.float64)\n",
    "\n",
    "        # Calulate priors and likelihoods for each class\n",
    "        for idx, c in enumerate(self.classes):\n",
    "            X_c = X[y == c]\n",
    "            self.mean[idx] = X_c.mean(axis=0)\n",
    "            self.var[idx] = X_c.var(axis=0)\n",
    "            self.priors[idx] = X_c.shape[0] / float(n_samples)\n",
    "\n",
    "    def predict(self, X):\n",
    "        \"\"\" take a matrix X and output the predicted label based on the model trained\n",
    "        :param X: shape(n_sample, n_features)\n",
    "        :return predicted label class\n",
    "        \"\"\"\n",
    "        y_pred = [self._predict(x) for x in X]\n",
    "        return np.array(y_pred)\n",
    "\n",
    "    def _predict(self, x):\n",
    "        \"\"\"\n",
    "        compute the posterior probability for each class and return the class with the highest probability.\n",
    "        :param x: a single input sample(count or frequency features)\n",
    "        :return: predicted class label\n",
    "        \"\"\"\n",
    "        posteriors = []\n",
    "\n",
    "        # calculate posterior probability for each class\n",
    "        for idx, c in enumerate(self.classes):\n",
    "            prior = np.log(self.priors[idx])\n",
    "            likelihood = np.sum(np.log(self._gaussian_pdf(idx, x)))\n",
    "            posterior = prior + likelihood\n",
    "            posteriors.append(posterior)\n",
    "\n",
    "        # return the class with the highest posterior probability\n",
    "        return self.classes[np.argmax(posteriors)]\n",
    "    \n",
    "    def _gaussian_pdf(self, c_idx, x):\n",
    "        \"\"\"\n",
    "        Compute the Gaussian probability density function for a given feature and class.\n",
    "        :param class_idx: The index of the class\n",
    "        :param x: A single input sample\n",
    "        :return: Probability density for each feature\n",
    "        \"\"\"\n",
    "        mean = self.mean[c_idx]\n",
    "        var = self.var[c_idx]\n",
    "        numerator = np.exp(- (x - mean) ** 2 / (2 * var))\n",
    "        denominator = np.sqrt(2 * np.pi * var)\n",
    "        return numerator / denominator\n",
    "\n",
    "    def accuracy(self, y_pred, y_test):\n",
    "        \"\"\"\n",
    "        testing the accuracy of the results\n",
    "        :param y_pred: the returned class predicted\n",
    "        :param y_test: the true label from test set\n",
    "        :return: the accuracy percentage\n",
    "        \"\"\"\n",
    "        accuracy = sum(y_pred == y_test) / len(y_test)\n",
    "        return accuracy\n",
    "\n",
    "\n"
   ]
  },
  {
   "cell_type": "markdown",
   "metadata": {},
   "source": [
    "## Example Usage"
   ]
  },
  {
   "cell_type": "code",
   "execution_count": 17,
   "metadata": {},
   "outputs": [
    {
     "data": {
      "text/plain": [
       "0.965"
      ]
     },
     "execution_count": 17,
     "metadata": {},
     "output_type": "execute_result"
    }
   ],
   "source": [
    "from sklearn import datasets\n",
    "from sklearn.model_selection import train_test_split\n",
    "\n",
    "\n",
    "X, y = datasets.make_classification(n_samples=1000, n_features=10, n_classes=2, random_state=123)\n",
    "X_train, X_test, y_train, y_test = train_test_split(X, y, test_size=0.2, random_state=123)\n",
    "\n",
    "# Train a Multinomial Naive Bayes classifier\n",
    "clf = GaussianNB()\n",
    "clf.fit(X_train, y_train)\n",
    "\n",
    "# Predict on the test set\n",
    "y_pred = clf.predict(X_test)\n",
    "\n",
    "# Calculate accuracy\n",
    "accuracy = clf.accuracy(y_pred, y_test)\n",
    "accuracy\n"
   ]
  }
 ],
 "metadata": {
  "kernelspec": {
   "display_name": "Python 3",
   "language": "python",
   "name": "python3"
  },
  "language_info": {
   "codemirror_mode": {
    "name": "ipython",
    "version": 3
   },
   "file_extension": ".py",
   "mimetype": "text/x-python",
   "name": "python",
   "nbconvert_exporter": "python",
   "pygments_lexer": "ipython3",
   "version": "3.11.9"
  }
 },
 "nbformat": 4,
 "nbformat_minor": 2
}
